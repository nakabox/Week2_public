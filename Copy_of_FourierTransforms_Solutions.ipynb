{
  "nbformat": 4,
  "nbformat_minor": 0,
  "metadata": {
    "colab": {
      "name": "Copy of FourierTransforms_Solutions.ipynb",
      "version": "0.3.2",
      "provenance": [],
      "collapsed_sections": [],
      "include_colab_link": true
    },
    "kernelspec": {
      "display_name": "Python 3",
      "language": "python",
      "name": "python3"
    }
  },
  "cells": [
    {
      "cell_type": "markdown",
      "metadata": {
        "id": "view-in-github",
        "colab_type": "text"
      },
      "source": [
        "[View in Colaboratory](https://colab.research.google.com/github/nakabox/Week2_public/blob/master/Copy_of_FourierTransforms_Solutions.ipynb)"
      ]
    },
    {
      "metadata": {
        "id": "-OMD2Tpa8kQ1",
        "colab_type": "text"
      },
      "cell_type": "markdown",
      "source": [
        "# Fourier Transform\n",
        "\n",
        "Virtually everything in the world can be described via a waveform - a function of time, space or some other variable. And all waveforms, no matter how complex, are actually just the sum of simple sinusoids of different frequencies. The Fourier Transform decomposes a waveform - basically any real world waveform, into sinusoids. Thus, it allows us to go from the time domain to the frequency domain.\n",
        "\n",
        "\n",
        "<img src = \"https://raw.githubusercontent.com/BeaverWorksMedlytics/Week2_public/master/imgs/time_freq_domain.png\">\n",
        "\n",
        "\n",
        "<img src = \"https://raw.githubusercontent.com/BeaverWorksMedlytics/Week2_public/master/imgs/fourier_transform_fig.png\">\n",
        "\n",
        "The Fourier Transform is like a prism.\n",
        "\n",
        "<img src = \"https://raw.githubusercontent.com/BeaverWorksMedlytics/Week2_public/master/imgs/prism.png\">\n",
        "\n"
      ]
    },
    {
      "metadata": {
        "id": "XSVc-yd7VpMu",
        "colab_type": "code",
        "colab": {
          "base_uri": "https://localhost:8080/",
          "height": 102
        },
        "outputId": "e66e8491-7c1e-4663-ac70-1399ad390f39"
      },
      "cell_type": "code",
      "source": [
        "# The first time you run in your Colab environment, you will need to clone the repo to Colab (then restart runtime)\n",
        "! git clone https://github.com/BeaverWorksMedlytics/Week2_public.git"
      ],
      "execution_count": 1,
      "outputs": [
        {
          "output_type": "stream",
          "text": [
            "Cloning into 'Week2_public'...\n",
            "remote: Counting objects: 67, done.\u001b[K\n",
            "remote: Compressing objects: 100% (15/15), done.\u001b[K\n",
            "remote: Total 67 (delta 7), reused 20 (delta 7), pack-reused 45\u001b[K\n",
            "Unpacking objects: 100% (67/67), done.\n"
          ],
          "name": "stdout"
        }
      ]
    },
    {
      "metadata": {
        "id": "z7h0z254Vreg",
        "colab_type": "code",
        "colab": {
          "base_uri": "https://localhost:8080/",
          "height": 221
        },
        "outputId": "17f06de7-c17d-44b8-907f-f06a8f1b319e"
      },
      "cell_type": "code",
      "source": [
        "import os\n",
        "os.chdir('Week2_public')\n",
        "os.listdir()"
      ],
      "execution_count": 2,
      "outputs": [
        {
          "output_type": "execute_result",
          "data": {
            "text/plain": [
              "['03_SignalsProcessing.ipynb',\n",
              " '02_TimeSeries_Exercise2.ipynb',\n",
              " 'multiTimeline.csv',\n",
              " 'ecg.txt',\n",
              " 'Neulog_Instructions.docx',\n",
              " 'README.md',\n",
              " '.git',\n",
              " 'imgs',\n",
              " '01_TimeSeries_Exercise1.ipynb',\n",
              " 'sounds',\n",
              " '00_SIR.ipynb',\n",
              " '04_FourierTransforms.ipynb']"
            ]
          },
          "metadata": {
            "tags": []
          },
          "execution_count": 2
        }
      ]
    },
    {
      "metadata": {
        "id": "fkjBAhW0CSXP",
        "colab_type": "code",
        "colab": {}
      },
      "cell_type": "code",
      "source": [
        "import numpy as np\n",
        "import matplotlib.pyplot as plt\n",
        "import scipy\n",
        "import matplotlib\n",
        "\n",
        "%matplotlib inline\n",
        "matplotlib.rcParams.update({'font.size': 16,'figure.figsize':(10,6)})"
      ],
      "execution_count": 0,
      "outputs": []
    },
    {
      "metadata": {
        "id": "2vb7Lp5NCQeM",
        "colab_type": "text"
      },
      "cell_type": "markdown",
      "source": [
        "## Complex Numbers\n",
        "Before we define Fourier Transform, let's briefly review complex numbers. Recall that imaginary number __i__ is defined as a square root of -1:\n",
        "\n",
        "\n",
        "$$i^2 = -1$$\n",
        "\n",
        "Also, recall the Euler's formula ([the proof is cute and uses Taylor series](https://www.youtube.com/watch?v=jcrQ3rPUYjc)):\n",
        "\n",
        "$$e^{ix} = cos(x) + i*sin(x)$$\n",
        "\n",
        "If we put in a general complex number, we get:\n",
        "\n",
        "$$e^{x+iy} = e^x(cos(y) + i*sin(y))$$\n",
        "\n",
        "*By the way, python uses $j$ instead of $i$. It handles computation with complex numbers with relative ease, though.*"
      ]
    },
    {
      "metadata": {
        "id": "uSBA1q6w8kQ7",
        "colab_type": "code",
        "colab": {
          "base_uri": "https://localhost:8080/",
          "height": 34
        },
        "outputId": "aac99418-4300-48e0-a742-42a188bd4e2b"
      },
      "cell_type": "code",
      "source": [
        "z1 = 1+2j\n",
        "z1"
      ],
      "execution_count": 4,
      "outputs": [
        {
          "output_type": "execute_result",
          "data": {
            "text/plain": [
              "(1+2j)"
            ]
          },
          "metadata": {
            "tags": []
          },
          "execution_count": 4
        }
      ]
    },
    {
      "metadata": {
        "id": "j2csfgRr8kRZ",
        "colab_type": "code",
        "colab": {}
      },
      "cell_type": "code",
      "source": [
        "z2 = 3-3j "
      ],
      "execution_count": 0,
      "outputs": []
    },
    {
      "metadata": {
        "id": "3hV-P4EZ8kRs",
        "colab_type": "code",
        "colab": {
          "base_uri": "https://localhost:8080/",
          "height": 34
        },
        "outputId": "9e090f74-f8f9-4751-8726-2c2de0114e58"
      },
      "cell_type": "code",
      "source": [
        "z1+z1, z1-z2"
      ],
      "execution_count": 6,
      "outputs": [
        {
          "output_type": "execute_result",
          "data": {
            "text/plain": [
              "((2+4j), (-2+5j))"
            ]
          },
          "metadata": {
            "tags": []
          },
          "execution_count": 6
        }
      ]
    },
    {
      "metadata": {
        "id": "8BTi01-U8kR3",
        "colab_type": "code",
        "colab": {}
      },
      "cell_type": "code",
      "source": [
        "z1*z2, z1/z2"
      ],
      "execution_count": 0,
      "outputs": []
    },
    {
      "metadata": {
        "id": "lD03yIZu8kSS",
        "colab_type": "code",
        "colab": {
          "base_uri": "https://localhost:8080/",
          "height": 34
        },
        "outputId": "a45d220b-d7e9-4307-a18b-073feaf99a69"
      },
      "cell_type": "code",
      "source": [
        "np.exp(z1)"
      ],
      "execution_count": 7,
      "outputs": [
        {
          "output_type": "execute_result",
          "data": {
            "text/plain": [
              "(-1.1312043837568135+2.4717266720048188j)"
            ]
          },
          "metadata": {
            "tags": []
          },
          "execution_count": 7
        }
      ]
    },
    {
      "metadata": {
        "id": "whd9IB128kSa",
        "colab_type": "code",
        "colab": {
          "base_uri": "https://localhost:8080/",
          "height": 34
        },
        "outputId": "26277bd5-ad94-408a-c5db-dec6d97911b2"
      },
      "cell_type": "code",
      "source": [
        "np.exp(z1).real, np.exp(z1).imag"
      ],
      "execution_count": 8,
      "outputs": [
        {
          "output_type": "execute_result",
          "data": {
            "text/plain": [
              "(-1.1312043837568135, 2.4717266720048188)"
            ]
          },
          "metadata": {
            "tags": []
          },
          "execution_count": 8
        }
      ]
    },
    {
      "metadata": {
        "id": "FBysgSa4ZvLO",
        "colab_type": "text"
      },
      "cell_type": "markdown",
      "source": [
        "An imaginary number has a magnitude (amplitude) and angle (phase)\n",
        "\n",
        "\n",
        "<img src = \"https://raw.githubusercontent.com/BeaverWorksMedlytics/Week2_public/master/imgs/complex_plane.png\">\n",
        "\n",
        "\n"
      ]
    },
    {
      "metadata": {
        "id": "KRXbX3_GYpZw",
        "colab_type": "code",
        "colab": {
          "base_uri": "https://localhost:8080/",
          "height": 34
        },
        "outputId": "a6744a09-a62b-43e4-f985-d7c42b84a5b5"
      },
      "cell_type": "code",
      "source": [
        "# magnitude and the angle of the complex number\n",
        "mag = abs(z1)\n",
        "ang = np.angle(z1)\n",
        "\n",
        "print(mag, ang)"
      ],
      "execution_count": 9,
      "outputs": [
        {
          "output_type": "stream",
          "text": [
            "2.23606797749979 1.1071487177940904\n"
          ],
          "name": "stdout"
        }
      ]
    },
    {
      "metadata": {
        "id": "Ibvi_var8kSg",
        "colab_type": "text"
      },
      "cell_type": "markdown",
      "source": [
        "\n",
        "## Fourier Transform Definition\n",
        "\n",
        "The Fourier Transform is a function that takes a signal in the time domain $g(t)$ and translates it into one in the frequency domain, $G(\\omega)$.  The *inverse* Fourier Transform takes a signal in the frequency domain $G(\\omega)$ and translates it into one in the time domain $g(t)$:\n",
        "\n",
        "$$G(\\omega) = \\int_{-\\infty}^\\infty g(t) e^{-i \\omega t} dt$$\n",
        "$$g(t) = \\int_{-\\infty}^\\infty G(\\omega) e^{i \\omega t} d\\omega$$\n",
        "\n",
        "\n",
        "If you're interested in getting some intuition behind this math, you should check out this [pretty nifty video](https://www.youtube.com/watch?v=spUNpyF58BY).\n",
        "\n",
        "\n",
        "For our purposes, we will just be using the discrete version...\n",
        "\n",
        "\n",
        "## Discrete Fourier Transform (DFT) \n",
        "$$G[n] = \\sum_{k=0}^{N-1} g[k] e^{-i 2 \\pi k \\left({\\frac{n}{N}}\\right) }$$\n",
        "\n",
        "Where:\n",
        "\n",
        "* $N$ is the total number of samples\n",
        "* $g[k]$ is the $k^{th}$ sample for the time-domain function (i.e. the DFT input)\n",
        "* $G[n]$ is the output of the DFT for the $n^{th}$ frequency bin.  To get the frequency, you have to multiply by the sample rate.  \n",
        "\n",
        "\n",
        "### So what does the Fourier Transform give us?\n",
        "\n",
        "* The amplitudes of simple sine waves\n",
        "* Their starting position - phase (we won't get into this part much)\n",
        "\n",
        "### What sine wave frequencies are used?\n",
        "\n",
        "* Answer: This is determined by how many samples are provided to the Fourier Transform\n",
        "* Frequencies range from 0 to (number of samples) / 2\n",
        "* **Example: If your sample rate is 100Hz, and you give the FFT 100 samples, the FFT will return the amplitude of the components with frequencies 0 to 50Hz.**"
      ]
    },
    {
      "metadata": {
        "id": "o9on_7pHbhfH",
        "colab_type": "code",
        "colab": {}
      },
      "cell_type": "code",
      "source": [
        "# def DFT(g):\n",
        "#     \"\"\"\n",
        "#     Compute the discrete Fourier Transform of the 1D array x\n",
        "#     :param g: (array)\n",
        "    \n",
        "    \n",
        "#     \"\"\"\n",
        "    \n",
        "#     G = []\n",
        "    \n",
        "#     for n in range(len(g)):\n",
        "    \n",
        "#       for k in range(len(g)):\n",
        "#         G[n] += g[k]*(np.exp(-2j * np.pi * k * n / len(g)))\n",
        "\n",
        "#     return G\n",
        "\n",
        "    \n",
        "    "
      ],
      "execution_count": 0,
      "outputs": []
    },
    {
      "metadata": {
        "id": "1MXEZAf2yMEx",
        "colab_type": "code",
        "colab": {}
      },
      "cell_type": "code",
      "source": [
        "def DFT(g):\n",
        "    \"\"\"\n",
        "    Compute the discrete Fourier Transform of the 1D array x\n",
        "    :param g: (array)\n",
        "    \n",
        "    \n",
        "    \"\"\"\n",
        "    \n",
        "    N = g.size\n",
        "    n = np.arange(N)\n",
        "    k = n.reshape((N,1))\n",
        "    \n",
        "   \n",
        "    e = np.exp(-2j * np.pi * k * n / N)\n",
        "      \n",
        "    G = np.dot(e,g)\n",
        "\n",
        "    return G\n"
      ],
      "execution_count": 0,
      "outputs": []
    },
    {
      "metadata": {
        "id": "v7J-bC7Rcmy1",
        "colab_type": "text"
      },
      "cell_type": "markdown",
      "source": [
        "Let's see how this works."
      ]
    },
    {
      "metadata": {
        "id": "zGgD6g8JcmEN",
        "colab_type": "code",
        "colab": {
          "base_uri": "https://localhost:8080/",
          "height": 388
        },
        "outputId": "6c0ba666-25f7-4ffc-a6fa-0eb7e7b549bf"
      },
      "cell_type": "code",
      "source": [
        "num_sec = 2         # sampling period (in seconds)\n",
        "num_pts = 500       # samples per second\n",
        "\n",
        "\n",
        "# make a complex signal with two sinusoids\n",
        "t = np.linspace(0, num_sec, num_pts*num_sec)\n",
        "s = np.sin(40 * 2 * np.pi * t) + 0.5 * np.sin(90 * 2 * np.pi * t)\n",
        "\n",
        "plt.figure(figsize=(15,6))\n",
        "plt.ylabel(\"Amplitude\")\n",
        "plt.xlabel(\"Time [s]\")\n",
        "plt.plot(t, s)\n",
        "plt.show()"
      ],
      "execution_count": 56,
      "outputs": [
        {
          "output_type": "display_data",
          "data": {
            "image/png": "[encoded data removed]",
            "text/plain": [
              "<matplotlib.figure.Figure at 0x7fc7eed1fba8>"
            ]
          },
          "metadata": {
            "tags": []
          }
        }
      ]
    },
    {
      "metadata": {
        "id": "x9dXvAQMMCM_",
        "colab_type": "text"
      },
      "cell_type": "markdown",
      "source": [
        "### *Aside:*\n",
        "The FFT outputs an array of length N corresponding to N/2 frequencies, and N/2 of their complex congugates.   \n",
        "\n",
        "For real number inputs is $n$ the complex conjugate of $N - n$.  This is true for all numbers in the sequence.\n",
        "\n",
        "Because the second half of the sequence gives us no new information we can already conclude that the half of the FT sequence is the output we need."
      ]
    },
    {
      "metadata": {
        "id": "96pX4ne4Kphq",
        "colab_type": "code",
        "colab": {
          "base_uri": "https://localhost:8080/",
          "height": 170
        },
        "outputId": "ad4d2cef-cdd5-4f65-944a-0a04eac5c36f"
      },
      "cell_type": "code",
      "source": [
        "# Look at the output of the fft\n",
        "fft = np.fft.fft(s)  \n",
        "\n",
        "for i in range(3):\n",
        "    print(\"\\nValue at index {}:\\t{}\".format(i, fft[i]), \"\\nValue at index {}:\\t{}\".format(fft.size - i, fft[-i]))\n"
      ],
      "execution_count": 57,
      "outputs": [
        {
          "output_type": "stream",
          "text": [
            "\n",
            "Value at index 0:\t(1.9539925233402755e-13+0j) \n",
            "Value at index 1000:\t(1.9539925233402755e-13+0j)\n",
            "\n",
            "Value at index 1:\t(4.617197827716524e-05-0.014696948699840062j) \n",
            "Value at index 999:\t(4.617197826634056e-05+0.01469694869983268j)\n",
            "\n",
            "Value at index 2:\t(0.00018476273461720538-0.029405515477137323j) \n",
            "Value at index 998:\t(0.00018476273461193182+0.02940551547713527j)\n"
          ],
          "name": "stdout"
        }
      ]
    },
    {
      "metadata": {
        "id": "nbPw5CuJKgtn",
        "colab_type": "code",
        "colab": {}
      },
      "cell_type": "code",
      "source": [
        "Fs = 1/(t[1] - t[0])     # sample rate\n",
        "N = s.size               # number of samples (length of signal)\n",
        "\n",
        "k = np.arange(N)         # frequncy bins\n",
        "T = N/Fs                 # frequency interval of a single bin\n",
        "frq = k/T                # two sides frequency range\n",
        "frq = frq[range(N//2)]   # one side frequency range (Fourier transform outputs symmetric frequencies)\n"
      ],
      "execution_count": 0,
      "outputs": []
    },
    {
      "metadata": {
        "id": "Uf6K67rZIfQl",
        "colab_type": "code",
        "colab": {
          "base_uri": "https://localhost:8080/",
          "height": 4267
        },
        "outputId": "42e981e9-2ca6-4a7a-9c46-ffdebd091676"
      },
      "cell_type": "code",
      "source": [
        "# Perform Fourier Transform using your function DFT() and numpy's fft\n",
        "\n",
        "## YOUR CODE HERE\n",
        "\n",
        "DFT(frq)"
      ],
      "execution_count": 59,
      "outputs": [
        {
          "output_type": "execute_result",
          "data": {
            "text/plain": [
              "array([62312.625+0.00000000e+00j,  -124.875+1.98742120e+04j,\n",
              "        -124.875+9.93671368e+03j,  -124.875+6.62403987e+03j,\n",
              "        -124.875+4.96757219e+03j,  -124.875+3.97358693e+03j,\n",
              "        -124.875+3.31084288e+03j,  -124.875+2.83737950e+03j,\n",
              "        -124.875+2.48221654e+03j,  -124.875+2.20592050e+03j,\n",
              "        -124.875+1.98483129e+03j,  -124.875+1.80389249e+03j,\n",
              "        -124.875+1.65306649e+03j,  -124.875+1.52540415e+03j,\n",
              "        -124.875+1.41594183e+03j,  -124.875+1.32103951e+03j,\n",
              "        -124.875+1.23796717e+03j,  -124.875+1.16463715e+03j,\n",
              "        -124.875+1.09942572e+03j,  -124.875+1.04105098e+03j,\n",
              "        -124.875+9.88487409e+02j,  -124.875+9.40904826e+02j,\n",
              "        -124.875+8.97623990e+02j,  -124.875+8.58083788e+02j,\n",
              "        -124.875+8.21816625e+02j,  -124.875+7.88429720e+02j,\n",
              "        -124.875+7.57590721e+02j,  -124.875+7.29016511e+02j,\n",
              "        -124.875+7.02464418e+02j,  -124.875+6.77725242e+02j,\n",
              "        -124.875+6.54617675e+02j,  -124.875+6.32983803e+02j,\n",
              "        -124.875+6.12685452e+02j,  -124.875+5.93601194e+02j,\n",
              "        -124.875+5.75623888e+02j,  -124.875+5.58658636e+02j,\n",
              "        -124.875+5.42621083e+02j,  -124.875+5.27435995e+02j,\n",
              "        -124.875+5.13036056e+02j,  -124.875+4.99360853e+02j,\n",
              "        -124.875+4.86356014e+02j,  -124.875+4.73972473e+02j,\n",
              "        -124.875+4.62165833e+02j,  -124.875+4.50895831e+02j,\n",
              "        -124.875+4.40125860e+02j,  -124.875+4.29822569e+02j,\n",
              "        -124.875+4.19955505e+02j,  -124.875+4.10496808e+02j,\n",
              "        -124.875+4.01420937e+02j,  -124.875+3.92704438e+02j,\n",
              "        -124.875+3.84325732e+02j,  -124.875+3.76264931e+02j,\n",
              "        -124.875+3.68503679e+02j,  -124.875+3.61025002e+02j,\n",
              "        -124.875+3.53813185e+02j,  -124.875+3.46853656e+02j,\n",
              "        -124.875+3.40132881e+02j,  -124.875+3.33638278e+02j,\n",
              "        -124.875+3.27358132e+02j,  -124.875+3.21281519e+02j,\n",
              "        -124.875+3.15398247e+02j,  -124.875+3.09698790e+02j,\n",
              "        -124.875+3.04174236e+02j,  -124.875+2.98816239e+02j,\n",
              "        -124.875+2.93616974e+02j,  -124.875+2.88569099e+02j,\n",
              "        -124.875+2.83665713e+02j,  -124.875+2.78900330e+02j,\n",
              "        -124.875+2.74266845e+02j,  -124.875+2.69759503e+02j,\n",
              "        -124.875+2.65372883e+02j,  -124.875+2.61101865e+02j,\n",
              "        -124.875+2.56941614e+02j,  -124.875+2.52887562e+02j,\n",
              "        -124.875+2.48935383e+02j,  -124.875+2.45080987e+02j,\n",
              "        -124.875+2.41320494e+02j,  -124.875+2.37650229e+02j,\n",
              "        -124.875+2.34066702e+02j,  -124.875+2.30566602e+02j,\n",
              "        -124.875+2.27146782e+02j,  -124.875+2.23804250e+02j,\n",
              "        -124.875+2.20536161e+02j,  -124.875+2.17339805e+02j,\n",
              "        -124.875+2.14212603e+02j,  -124.875+2.11152094e+02j,\n",
              "        -124.875+2.08155933e+02j,  -124.875+2.05221884e+02j,\n",
              "        -124.875+2.02347809e+02j,  -124.875+1.99531669e+02j,\n",
              "        -124.875+1.96771514e+02j,  -124.875+1.94065478e+02j,\n",
              "        -124.875+1.91411779e+02j,  -124.875+1.88808709e+02j,\n",
              "        -124.875+1.86254632e+02j,  -124.875+1.83747983e+02j,\n",
              "        -124.875+1.81287259e+02j,  -124.875+1.78871023e+02j,\n",
              "        -124.875+1.76497891e+02j,  -124.875+1.74166538e+02j,\n",
              "        -124.875+1.71875692e+02j,  -124.875+1.69624130e+02j,\n",
              "        -124.875+1.67410676e+02j,  -124.875+1.65234200e+02j,\n",
              "        -124.875+1.63093617e+02j,  -124.875+1.60987880e+02j,\n",
              "        -124.875+1.58915983e+02j,  -124.875+1.56876958e+02j,\n",
              "        -124.875+1.54869871e+02j,  -124.875+1.52893822e+02j,\n",
              "        -124.875+1.50947945e+02j,  -124.875+1.49031403e+02j,\n",
              "        -124.875+1.47143391e+02j,  -124.875+1.45283130e+02j,\n",
              "        -124.875+1.43449870e+02j,  -124.875+1.41642884e+02j,\n",
              "        -124.875+1.39861473e+02j,  -124.875+1.38104959e+02j,\n",
              "        -124.875+1.36372688e+02j,  -124.875+1.34664029e+02j,\n",
              "        -124.875+1.32978369e+02j,  -124.875+1.31315116e+02j,\n",
              "        -124.875+1.29673698e+02j,  -124.875+1.28053561e+02j,\n",
              "        -124.875+1.26454169e+02j,  -124.875+1.24875000e+02j,\n",
              "        -124.875+1.23315552e+02j,  -124.875+1.21775337e+02j,\n",
              "        -124.875+1.20253882e+02j,  -124.875+1.18750728e+02j,\n",
              "        -124.875+1.17265430e+02j,  -124.875+1.15797558e+02j,\n",
              "        -124.875+1.14346691e+02j,  -124.875+1.12912424e+02j,\n",
              "        -124.875+1.11494362e+02j,  -124.875+1.10092122e+02j,\n",
              "        -124.875+1.08705331e+02j,  -124.875+1.07333629e+02j,\n",
              "        -124.875+1.05976663e+02j,  -124.875+1.04634092e+02j,\n",
              "        -124.875+1.03305584e+02j,  -124.875+1.01990816e+02j,\n",
              "        -124.875+1.00689473e+02j,  -124.875+9.94012494e+01j,\n",
              "        -124.875+9.81258480e+01j,  -124.875+9.68629789e+01j,\n",
              "        -124.875+9.56123601e+01j,  -124.875+9.43737168e+01j,\n",
              "        -124.875+9.31467815e+01j,  -124.875+9.19312933e+01j,\n",
              "        -124.875+9.07269982e+01j,  -124.875+8.95336485e+01j,\n",
              "        -124.875+8.83510027e+01j,  -124.875+8.71788253e+01j,\n",
              "        -124.875+8.60168866e+01j,  -124.875+8.48649624e+01j,\n",
              "        -124.875+8.37228340e+01j,  -124.875+8.25902881e+01j,\n",
              "        -124.875+8.14671161e+01j,  -124.875+8.03531146e+01j,\n",
              "        -124.875+7.92480848e+01j,  -124.875+7.81518326e+01j,\n",
              "        -124.875+7.70641682e+01j,  -124.875+7.59849064e+01j,\n",
              "        -124.875+7.49138657e+01j,  -124.875+7.38508691e+01j,\n",
              "        -124.875+7.27957433e+01j,  -124.875+7.17483187e+01j,\n",
              "        -124.875+7.07084296e+01j,  -124.875+6.96759137e+01j,\n",
              "        -124.875+6.86506122e+01j,  -124.875+6.76323696e+01j,\n",
              "        -124.875+6.66210337e+01j,  -124.875+6.56164554e+01j,\n",
              "        -124.875+6.46184887e+01j,  -124.875+6.36269905e+01j,\n",
              "        -124.875+6.26418206e+01j,  -124.875+6.16628415e+01j,\n",
              "        -124.875+6.06899184e+01j,  -124.875+5.97229194e+01j,\n",
              "        -124.875+5.87617146e+01j,  -124.875+5.78061771e+01j,\n",
              "        -124.875+5.68561820e+01j,  -124.875+5.59116068e+01j,\n",
              "        -124.875+5.49723315e+01j,  -124.875+5.40382380e+01j,\n",
              "        -124.875+5.31092102e+01j,  -124.875+5.21851345e+01j,\n",
              "        -124.875+5.12658989e+01j,  -124.875+5.03513934e+01j,\n",
              "        -124.875+4.94415101e+01j,  -124.875+4.85361426e+01j,\n",
              "        -124.875+4.76351864e+01j,  -124.875+4.67385388e+01j,\n",
              "        -124.875+4.58460986e+01j,  -124.875+4.49577664e+01j,\n",
              "        -124.875+4.40734440e+01j,  -124.875+4.31930352e+01j,\n",
              "        -124.875+4.23164449e+01j,  -124.875+4.14435796e+01j,\n",
              "        -124.875+4.05743471e+01j,  -124.875+3.97086565e+01j,\n",
              "        -124.875+3.88464183e+01j,  -124.875+3.79875442e+01j,\n",
              "        -124.875+3.71319471e+01j,  -124.875+3.62795412e+01j,\n",
              "        -124.875+3.54302417e+01j,  -124.875+3.45839650e+01j,\n",
              "        -124.875+3.37406284e+01j,  -124.875+3.29001504e+01j,\n",
              "        -124.875+3.20624505e+01j,  -124.875+3.12274491e+01j,\n",
              "        -124.875+3.03950677e+01j,  -124.875+2.95652283e+01j,\n",
              "        -124.875+2.87378543e+01j,  -124.875+2.79128696e+01j,\n",
              "        -124.875+2.70901989e+01j,  -124.875+2.62697679e+01j,\n",
              "        -124.875+2.54515030e+01j,  -124.875+2.46353312e+01j,\n",
              "        -124.875+2.38211803e+01j,  -124.875+2.30089787e+01j,\n",
              "        -124.875+2.21986555e+01j,  -124.875+2.13901405e+01j,\n",
              "        -124.875+2.05833641e+01j,  -124.875+1.97782570e+01j,\n",
              "        -124.875+1.89747508e+01j,  -124.875+1.81727773e+01j,\n",
              "        -124.875+1.73722692e+01j,  -124.875+1.65731594e+01j,\n",
              "        -124.875+1.57753811e+01j,  -124.875+1.49788684e+01j,\n",
              "        -124.875+1.41835554e+01j,  -124.875+1.33893768e+01j,\n",
              "        -124.875+1.25962675e+01j,  -124.875+1.18041629e+01j,\n",
              "        -124.875+1.10129987e+01j,  -124.875+1.02227109e+01j,\n",
              "        -124.875+9.43323560e+00j,  -124.875+8.64450942e+00j,\n",
              "        -124.875+7.85646907e+00j,  -124.875+7.06905152e+00j,\n",
              "        -124.875+6.28219392e+00j,  -124.875+5.49583361e+00j,\n",
              "        -124.875+4.70990808e+00j,  -124.875+3.92435497e+00j,\n",
              "        -124.875+3.13911203e+00j,  -124.875+2.35411711e+00j,\n",
              "        -124.875+1.56930814e+00j,  -124.875+7.84623090e-01j,\n",
              "        -124.875+4.21041842e-11j,  -124.875-7.84623090e-01j,\n",
              "        -124.875-1.56930814e+00j,  -124.875-2.35411711e+00j,\n",
              "        -124.875-3.13911203e+00j,  -124.875-3.92435497e+00j,\n",
              "        -124.875-4.70990808e+00j,  -124.875-5.49583361e+00j,\n",
              "        -124.875-6.28219392e+00j,  -124.875-7.06905152e+00j,\n",
              "        -124.875-7.85646907e+00j,  -124.875-8.64450942e+00j,\n",
              "        -124.875-9.43323560e+00j,  -124.875-1.02227109e+01j,\n",
              "        -124.875-1.10129987e+01j,  -124.875-1.18041629e+01j,\n",
              "        -124.875-1.25962675e+01j,  -124.875-1.33893768e+01j,\n",
              "        -124.875-1.41835554e+01j,  -124.875-1.49788684e+01j,\n",
              "        -124.875-1.57753811e+01j,  -124.875-1.65731594e+01j,\n",
              "        -124.875-1.73722692e+01j,  -124.875-1.81727773e+01j,\n",
              "        -124.875-1.89747508e+01j,  -124.875-1.97782570e+01j,\n",
              "        -124.875-2.05833641e+01j,  -124.875-2.13901405e+01j,\n",
              "        -124.875-2.21986555e+01j,  -124.875-2.30089787e+01j,\n",
              "        -124.875-2.38211803e+01j,  -124.875-2.46353312e+01j,\n",
              "        -124.875-2.54515030e+01j,  -124.875-2.62697679e+01j,\n",
              "        -124.875-2.70901989e+01j,  -124.875-2.79128696e+01j,\n",
              "        -124.875-2.87378543e+01j,  -124.875-2.95652283e+01j,\n",
              "        -124.875-3.03950677e+01j,  -124.875-3.12274491e+01j,\n",
              "        -124.875-3.20624505e+01j,  -124.875-3.29001504e+01j,\n",
              "        -124.875-3.37406284e+01j,  -124.875-3.45839650e+01j,\n",
              "        -124.875-3.54302417e+01j,  -124.875-3.62795412e+01j,\n",
              "        -124.875-3.71319471e+01j,  -124.875-3.79875442e+01j,\n",
              "        -124.875-3.88464183e+01j,  -124.875-3.97086565e+01j,\n",
              "        -124.875-4.05743471e+01j,  -124.875-4.14435796e+01j,\n",
              "        -124.875-4.23164449e+01j,  -124.875-4.31930352e+01j,\n",
              "        -124.875-4.40734440e+01j,  -124.875-4.49577664e+01j,\n",
              "        -124.875-4.58460986e+01j,  -124.875-4.67385388e+01j,\n",
              "        -124.875-4.76351864e+01j,  -124.875-4.85361426e+01j,\n",
              "        -124.875-4.94415101e+01j,  -124.875-5.03513934e+01j,\n",
              "        -124.875-5.12658989e+01j,  -124.875-5.21851345e+01j,\n",
              "        -124.875-5.31092102e+01j,  -124.875-5.40382380e+01j,\n",
              "        -124.875-5.49723315e+01j,  -124.875-5.59116068e+01j,\n",
              "        -124.875-5.68561820e+01j,  -124.875-5.78061771e+01j,\n",
              "        -124.875-5.87617146e+01j,  -124.875-5.97229194e+01j,\n",
              "        -124.875-6.06899184e+01j,  -124.875-6.16628415e+01j,\n",
              "        -124.875-6.26418206e+01j,  -124.875-6.36269905e+01j,\n",
              "        -124.875-6.46184887e+01j,  -124.875-6.56164554e+01j,\n",
              "        -124.875-6.66210337e+01j,  -124.875-6.76323696e+01j,\n",
              "        -124.875-6.86506122e+01j,  -124.875-6.96759137e+01j,\n",
              "        -124.875-7.07084296e+01j,  -124.875-7.17483187e+01j,\n",
              "        -124.875-7.27957433e+01j,  -124.875-7.38508691e+01j,\n",
              "        -124.875-7.49138657e+01j,  -124.875-7.59849064e+01j,\n",
              "        -124.875-7.70641682e+01j,  -124.875-7.81518326e+01j,\n",
              "        -124.875-7.92480848e+01j,  -124.875-8.03531146e+01j,\n",
              "        -124.875-8.14671161e+01j,  -124.875-8.25902881e+01j,\n",
              "        -124.875-8.37228340e+01j,  -124.875-8.48649624e+01j,\n",
              "        -124.875-8.60168866e+01j,  -124.875-8.71788253e+01j,\n",
              "        -124.875-8.83510027e+01j,  -124.875-8.95336485e+01j,\n",
              "        -124.875-9.07269982e+01j,  -124.875-9.19312933e+01j,\n",
              "        -124.875-9.31467815e+01j,  -124.875-9.43737168e+01j,\n",
              "        -124.875-9.56123601e+01j,  -124.875-9.68629789e+01j,\n",
              "        -124.875-9.81258480e+01j,  -124.875-9.94012494e+01j,\n",
              "        -124.875-1.00689473e+02j,  -124.875-1.01990816e+02j,\n",
              "        -124.875-1.03305584e+02j,  -124.875-1.04634092e+02j,\n",
              "        -124.875-1.05976663e+02j,  -124.875-1.07333629e+02j,\n",
              "        -124.875-1.08705331e+02j,  -124.875-1.10092122e+02j,\n",
              "        -124.875-1.11494362e+02j,  -124.875-1.12912424e+02j,\n",
              "        -124.875-1.14346691e+02j,  -124.875-1.15797558e+02j,\n",
              "        -124.875-1.17265430e+02j,  -124.875-1.18750728e+02j,\n",
              "        -124.875-1.20253882e+02j,  -124.875-1.21775337e+02j,\n",
              "        -124.875-1.23315552e+02j,  -124.875-1.24875000e+02j,\n",
              "        -124.875-1.26454169e+02j,  -124.875-1.28053561e+02j,\n",
              "        -124.875-1.29673698e+02j,  -124.875-1.31315116e+02j,\n",
              "        -124.875-1.32978369e+02j,  -124.875-1.34664029e+02j,\n",
              "        -124.875-1.36372688e+02j,  -124.875-1.38104959e+02j,\n",
              "        -124.875-1.39861473e+02j,  -124.875-1.41642884e+02j,\n",
              "        -124.875-1.43449870e+02j,  -124.875-1.45283130e+02j,\n",
              "        -124.875-1.47143391e+02j,  -124.875-1.49031403e+02j,\n",
              "        -124.875-1.50947945e+02j,  -124.875-1.52893822e+02j,\n",
              "        -124.875-1.54869871e+02j,  -124.875-1.56876958e+02j,\n",
              "        -124.875-1.58915983e+02j,  -124.875-1.60987880e+02j,\n",
              "        -124.875-1.63093617e+02j,  -124.875-1.65234200e+02j,\n",
              "        -124.875-1.67410676e+02j,  -124.875-1.69624130e+02j,\n",
              "        -124.875-1.71875692e+02j,  -124.875-1.74166538e+02j,\n",
              "        -124.875-1.76497891e+02j,  -124.875-1.78871023e+02j,\n",
              "        -124.875-1.81287259e+02j,  -124.875-1.83747983e+02j,\n",
              "        -124.875-1.86254632e+02j,  -124.875-1.88808709e+02j,\n",
              "        -124.875-1.91411779e+02j,  -124.875-1.94065478e+02j,\n",
              "        -124.875-1.96771514e+02j,  -124.875-1.99531669e+02j,\n",
              "        -124.875-2.02347809e+02j,  -124.875-2.05221884e+02j,\n",
              "        -124.875-2.08155933e+02j,  -124.875-2.11152094e+02j,\n",
              "        -124.875-2.14212603e+02j,  -124.875-2.17339805e+02j,\n",
              "        -124.875-2.20536161e+02j,  -124.875-2.23804250e+02j,\n",
              "        -124.875-2.27146782e+02j,  -124.875-2.30566602e+02j,\n",
              "        -124.875-2.34066702e+02j,  -124.875-2.37650229e+02j,\n",
              "        -124.875-2.41320494e+02j,  -124.875-2.45080987e+02j,\n",
              "        -124.875-2.48935383e+02j,  -124.875-2.52887562e+02j,\n",
              "        -124.875-2.56941614e+02j,  -124.875-2.61101865e+02j,\n",
              "        -124.875-2.65372883e+02j,  -124.875-2.69759503e+02j,\n",
              "        -124.875-2.74266845e+02j,  -124.875-2.78900330e+02j,\n",
              "        -124.875-2.83665713e+02j,  -124.875-2.88569099e+02j,\n",
              "        -124.875-2.93616974e+02j,  -124.875-2.98816239e+02j,\n",
              "        -124.875-3.04174236e+02j,  -124.875-3.09698790e+02j,\n",
              "        -124.875-3.15398247e+02j,  -124.875-3.21281519e+02j,\n",
              "        -124.875-3.27358132e+02j,  -124.875-3.33638278e+02j,\n",
              "        -124.875-3.40132881e+02j,  -124.875-3.46853656e+02j,\n",
              "        -124.875-3.53813185e+02j,  -124.875-3.61025002e+02j,\n",
              "        -124.875-3.68503679e+02j,  -124.875-3.76264931e+02j,\n",
              "        -124.875-3.84325732e+02j,  -124.875-3.92704438e+02j,\n",
              "        -124.875-4.01420937e+02j,  -124.875-4.10496808e+02j,\n",
              "        -124.875-4.19955505e+02j,  -124.875-4.29822569e+02j,\n",
              "        -124.875-4.40125860e+02j,  -124.875-4.50895831e+02j,\n",
              "        -124.875-4.62165833e+02j,  -124.875-4.73972473e+02j,\n",
              "        -124.875-4.86356014e+02j,  -124.875-4.99360853e+02j,\n",
              "        -124.875-5.13036056e+02j,  -124.875-5.27435995e+02j,\n",
              "        -124.875-5.42621083e+02j,  -124.875-5.58658636e+02j,\n",
              "        -124.875-5.75623888e+02j,  -124.875-5.93601194e+02j,\n",
              "        -124.875-6.12685452e+02j,  -124.875-6.32983803e+02j,\n",
              "        -124.875-6.54617675e+02j,  -124.875-6.77725242e+02j,\n",
              "        -124.875-7.02464418e+02j,  -124.875-7.29016511e+02j,\n",
              "        -124.875-7.57590721e+02j,  -124.875-7.88429720e+02j,\n",
              "        -124.875-8.21816625e+02j,  -124.875-8.58083788e+02j,\n",
              "        -124.875-8.97623990e+02j,  -124.875-9.40904826e+02j,\n",
              "        -124.875-9.88487409e+02j,  -124.875-1.04105098e+03j,\n",
              "        -124.875-1.09942572e+03j,  -124.875-1.16463715e+03j,\n",
              "        -124.875-1.23796717e+03j,  -124.875-1.32103951e+03j,\n",
              "        -124.875-1.41594183e+03j,  -124.875-1.52540415e+03j,\n",
              "        -124.875-1.65306649e+03j,  -124.875-1.80389249e+03j,\n",
              "        -124.875-1.98483129e+03j,  -124.875-2.20592050e+03j,\n",
              "        -124.875-2.48221654e+03j,  -124.875-2.83737950e+03j,\n",
              "        -124.875-3.31084288e+03j,  -124.875-3.97358693e+03j,\n",
              "        -124.875-4.96757219e+03j,  -124.875-6.62403987e+03j,\n",
              "        -124.875-9.93671368e+03j,  -124.875-1.98742120e+04j])"
            ]
          },
          "metadata": {
            "tags": []
          },
          "execution_count": 59
        }
      ]
    },
    {
      "metadata": {
        "id": "xoYfdFZsNYWU",
        "colab_type": "text"
      },
      "cell_type": "markdown",
      "source": [
        "Now plot the spectrum!"
      ]
    },
    {
      "metadata": {
        "id": "rDjN3djDJCv1",
        "colab_type": "code",
        "colab": {}
      },
      "cell_type": "code",
      "source": [
        "# PLOT\n",
        "\n",
        "## YOUR CODE HERE"
      ],
      "execution_count": 0,
      "outputs": []
    },
    {
      "metadata": {
        "id": "H505z4qZVwWD",
        "colab_type": "text"
      },
      "cell_type": "markdown",
      "source": [
        "## Inverse Fourier Transform (IFT)"
      ]
    },
    {
      "metadata": {
        "id": "9ddUsIycV7f2",
        "colab_type": "text"
      },
      "cell_type": "markdown",
      "source": [
        "\n",
        "Recall: \n",
        "\n",
        "\n",
        "#### Discrete Fourier Transform (DFT) \n",
        "$$G[n] = \\sum_{k=0}^{N-1} g[k] e^{-i 2 \\pi k \\left({\\frac{n}{N}}\\right) }$$\n",
        "\n",
        "#### Inverse Discrete  Fourier Transform (IDFT)\n",
        "$$g[k]=\\frac{1}{N} \\sum_{n=0}^{N-1}G[n]e^{i2\\pi k\\left({\\frac{n}{N}}\\right) }$$\n",
        "\n",
        "\n",
        "**Meaning**:\n",
        "\n",
        "* $N$ is the total number of samples\n",
        "* $g[k]$ is the $k^{th}$ sample in the time-domain \n",
        "* $G[n]$ is the $n^{th}$ sample in the frequency-domain "
      ]
    },
    {
      "metadata": {
        "id": "yIyCcuEeUh8V",
        "colab_type": "code",
        "colab": {}
      },
      "cell_type": "code",
      "source": [
        "# Take the Fourier Transform\n",
        "# Then take the Inverse Fourier Transform\n",
        "\n",
        "## YOUR CODE HERE"
      ],
      "execution_count": 0,
      "outputs": []
    },
    {
      "metadata": {
        "id": "wbXcPxiuUiVw",
        "colab_type": "code",
        "colab": {}
      },
      "cell_type": "code",
      "source": [
        "# Plot it!\n",
        "\n",
        "## YOUR CODE HERE"
      ],
      "execution_count": 0,
      "outputs": []
    },
    {
      "metadata": {
        "id": "HiUGEFluVWP_",
        "colab_type": "text"
      },
      "cell_type": "markdown",
      "source": [
        "### Yay!\n",
        "We can decompose a signal into its component frequencies, and reconstruct it back to the time domain!\n",
        "\n",
        "Let's try with a more complicated signal."
      ]
    },
    {
      "metadata": {
        "id": "eNDPlKbVUiSx",
        "colab_type": "code",
        "colab": {}
      },
      "cell_type": "code",
      "source": [
        "y_ecg = np.loadtxt('https://raw.githubusercontent.com/BeaverWorksMedlytics/Week2_public/master/ecg.txt',skiprows=4)\n",
        "\n",
        "\n",
        "# FFT and IFFT\n",
        "\n",
        "# PLOT\n"
      ],
      "execution_count": 0,
      "outputs": []
    },
    {
      "metadata": {
        "id": "y535EEPoXMq7",
        "colab_type": "text"
      },
      "cell_type": "markdown",
      "source": [
        "Okay, well that looks pretty good, but how well were we able to reconstruct the signal really?"
      ]
    },
    {
      "metadata": {
        "id": "qYtzNbLJUiP4",
        "colab_type": "code",
        "colab": {}
      },
      "cell_type": "code",
      "source": [
        "np.corrcoef(abs(y_ecg), abs(y_ecg_recon))"
      ],
      "execution_count": 0,
      "outputs": []
    },
    {
      "metadata": {
        "id": "LVSYqMvekvU6",
        "colab_type": "code",
        "colab": {}
      },
      "cell_type": "code",
      "source": [
        "# PLOT THE FREQUENCY SPECTRUM"
      ],
      "execution_count": 0,
      "outputs": []
    },
    {
      "metadata": {
        "id": "nuLi5WFaXW6M",
        "colab_type": "text"
      },
      "cell_type": "markdown",
      "source": [
        "## Okay, but that was a relatively periodic signal...\n",
        "Let's try with a signal that doesn't look periodic at all!"
      ]
    },
    {
      "metadata": {
        "id": "zUFajolkUiMy",
        "colab_type": "code",
        "colab": {}
      },
      "cell_type": "code",
      "source": [
        "import scipy.io.wavfile\n",
        "from IPython.display import Audio\n",
        "\n",
        "# original signal\n",
        "(sample_rate, y_newt) = scipy.io.wavfile.read(\"./sounds/newt.wav\")\n",
        "t = np.arange(0, len(y_newt)/sample_rate, 1/sample_rate)\n",
        "\n",
        "print('Sample rate: {} Hz'.format(sample_rate))"
      ],
      "execution_count": 0,
      "outputs": []
    },
    {
      "metadata": {
        "id": "ettTW0KacrfM",
        "colab_type": "code",
        "colab": {}
      },
      "cell_type": "code",
      "source": [
        "# PLOT THE FREQUENCY SPECTRUM\n",
        "\n"
      ],
      "execution_count": 0,
      "outputs": []
    },
    {
      "metadata": {
        "id": "1QQkur43UiKC",
        "colab_type": "code",
        "colab": {}
      },
      "cell_type": "code",
      "source": [
        "# FFT, IFFT\n",
        "\n",
        "\n",
        "# PLOT\n"
      ],
      "execution_count": 0,
      "outputs": []
    },
    {
      "metadata": {
        "id": "PUiCkD_kZH7u",
        "colab_type": "code",
        "colab": {}
      },
      "cell_type": "code",
      "source": [
        "np.corrcoef(abs(y_newt), abs(y_newt_recon))"
      ],
      "execution_count": 0,
      "outputs": []
    },
    {
      "metadata": {
        "id": "wkrVHd3AUiHQ",
        "colab_type": "code",
        "colab": {}
      },
      "cell_type": "code",
      "source": [
        "# Original signal\n",
        "Audio(data=y_newt, rate=sample_rate)"
      ],
      "execution_count": 0,
      "outputs": []
    },
    {
      "metadata": {
        "id": "-uIoe4T5UiED",
        "colab_type": "code",
        "colab": {}
      },
      "cell_type": "code",
      "source": [
        "# Digitized signal\n",
        "Audio(data=abs(y_newt_recon), rate=sample_rate)"
      ],
      "execution_count": 0,
      "outputs": []
    },
    {
      "metadata": {
        "id": "YE71QSEzdV18",
        "colab_type": "text"
      },
      "cell_type": "markdown",
      "source": [
        "# Spectogram\n",
        "\n",
        "A spectrogram is a visual representation of the spectrum of frequencies of sound or other signal as they vary with time. Spectrograms are sometimes called sonographs, voiceprints, or voicegrams.\n",
        "\n",
        "This is a great representation because it captures both time and frequency information!"
      ]
    },
    {
      "metadata": {
        "id": "PcKW5UIbYc5Y",
        "colab_type": "code",
        "colab": {}
      },
      "cell_type": "code",
      "source": [
        "from scipy import signal\n",
        "\n",
        "(sample_rate, y_newt) = scipy.io.wavfile.read(\"./sounds/newt.wav\")\n",
        "sample_freq, segment_time, spec_data = signal.spectrogram(y_newt,sample_rate)"
      ],
      "execution_count": 0,
      "outputs": []
    },
    {
      "metadata": {
        "id": "NmPMM7XEZGNY",
        "colab_type": "code",
        "colab": {}
      },
      "cell_type": "code",
      "source": [
        "# PLOT\n",
        "plt.figure(figsize=(20,12))\n",
        "plt.subplot(2,2,1)\n",
        "plt.plot(t,y_newt)\n",
        "plt.title('Original Signal')\n",
        "\n",
        "plt.subplot(2,2,3)\n",
        "plt.pcolormesh(segment_time, sample_freq, spec_data,cmap='jet',vmax=10)\n",
        "plt.ylabel('Frequency [Hz]')\n",
        "plt.xlabel('Time [sec]')\n",
        "plt.title(\"Newt Spectogram\")\n",
        "\n",
        "plt.subplot(2,2,4)\n",
        "plt.title(\"Newt Spectrum\")\n",
        "plt.xlabel(\"Amplitude\")\n",
        "plt.ylabel(\"Frequency [Hz]\")\n",
        "plt.plot(np.abs(fft_plot),frq)  \n",
        "plt.xlim([0,5])\n",
        "plt.ylim([0,max(frq)])"
      ],
      "execution_count": 0,
      "outputs": []
    }
  ]
}